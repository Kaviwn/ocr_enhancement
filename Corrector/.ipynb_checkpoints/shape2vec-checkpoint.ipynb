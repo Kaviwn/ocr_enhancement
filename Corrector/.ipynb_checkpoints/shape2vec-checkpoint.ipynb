{
 "cells": [
  {
   "cell_type": "code",
   "execution_count": 2,
   "metadata": {},
   "outputs": [],
   "source": [
    "import torch\n",
    "import pandas as pd\n",
    "import numpy as np\n",
    "import pickle\n",
    "import torchvision.models as models"
   ]
  },
  {
   "cell_type": "code",
   "execution_count": 7,
   "metadata": {},
   "outputs": [],
   "source": [
    "dim = 50"
   ]
  },
  {
   "cell_type": "code",
   "execution_count": 8,
   "metadata": {},
   "outputs": [
    {
     "name": "stdout",
     "output_type": "stream",
     "text": [
      "Saved!\n"
     ]
    }
   ],
   "source": [
    "def exShapeMatrix(m_path='ShapeNet.pth', d=300):\n",
    "    m_path = m_path.replace('Net', 'Net_'+str(d)+'d')\n",
    "    pretrained_dict = torch.load(m_path)\n",
    "    M = pretrained_dict['model']['classifier.0.weight']\n",
    "    # resave\n",
    "    torch.save({'shape2vec': M}, f'shape2vec.{d}d')\n",
    "    print(\"Saved!\")\n",
    "# M = pretrained_dict['model']['classifier.0.weight'].cpu().detach().numpy()\n",
    "\n",
    "exShapeMatrix(d=dim)"
   ]
  },
  {
   "cell_type": "code",
   "execution_count": 9,
   "metadata": {},
   "outputs": [
    {
     "name": "stdout",
     "output_type": "stream",
     "text": [
      "torch.Size([3755, 50])\n"
     ]
    }
   ],
   "source": [
    "def get_label_dict():\n",
    "    f = open('./chinese_labels', 'rb')\n",
    "    label_dict = pickle.load(f)\n",
    "    f.close()\n",
    "    return label_dict\n",
    "\n",
    "id2char = get_label_dict()\n",
    "char2id = {x: y for x, y in zip(id2char.values(), id2char.keys())}\n",
    "\n",
    "def getAllReady():\n",
    "    id2char = get_label_dict()\n",
    "    char2id = {x: y for x, y in zip(id2char.values(), id2char.keys())}\n",
    "    M = torch.load(f'./shape2vec.{dim}d')['shape2vec']\n",
    "    print(M.shape)\n",
    "    return M\n",
    "    \n",
    "M = getAllReady()"
   ]
  },
  {
   "cell_type": "code",
   "execution_count": 10,
   "metadata": {},
   "outputs": [],
   "source": [
    "def getTopKSim(q_char, K=20):\n",
    "    id = char2id[q_char]\n",
    "    sim_lst = []\n",
    "    for i in range(M.shape[0]):\n",
    "        sim = torch.cosine_similarity(M[id], M[i], dim=-1)\n",
    "        sim_lst.append((sim, i))\n",
    "    sim_lst.sort(key=lambda x: x[0], reverse=True)\n",
    "    topK_id = sim_lst[1:K+1]\n",
    "    topK_char = []\n",
    "    for _, id in topK_id:\n",
    "        topK_char.append(id2char[id])\n",
    "    return topK_char\n"
   ]
  },
  {
   "cell_type": "markdown",
   "metadata": {},
   "source": [
    "#### Test"
   ]
  },
  {
   "cell_type": "code",
   "execution_count": 11,
   "metadata": {},
   "outputs": [
    {
     "name": "stdout",
     "output_type": "stream",
     "text": [
      "鹿： ['蔑', '席', '衷', '商', '胞', '展', '度', '厘', '底', '宦', '腕', '胰', '虎', '窟', '寇', '蓖', '腥', '庭', '彪', '脯']\n",
      "于： ['干', '子', '丁', '吁', '巧', '云', '壬', '古', '乎', '蹬', '予', '晋', '牙', '手', '天', '霞', '订', '责', '舌', '寸']\n",
      "茵： ['苗', '萤', '菌', '卤', '酋', '窗', '商', '谊', '苞', '芭', '萄', '笛', '值', '砖', '亩', '苟', '囱', '首', '宦', '茧']\n",
      "少： ['吵', '沙', '父', '小', '尘', '乡', '山', '今', '纱', '炒', '步', '夕', '刃', '尖', '抄', '诊', '仅', '立', '砂', '仪']\n",
      "饮： ['钦', '炊', '饥', '坎', '饭', '伙', '忱', '吹', '饺', '次', '恢', '饱', '欲', '砍', '收', '蚀', '价', '欧', '欢', '饶']\n"
     ]
    }
   ],
   "source": [
    "# 50d\n",
    "print(\"鹿：\", getTopKSim(\"鹿\", 20))\n",
    "print(\"于：\", getTopKSim(\"于\", 20))\n",
    "print(\"茵：\", getTopKSim(\"茵\", 20))\n",
    "print(\"少：\", getTopKSim(\"少\", 20))\n",
    "print(\"饮：\", getTopKSim(\"饮\", 20))"
   ]
  },
  {
   "cell_type": "code",
   "execution_count": null,
   "metadata": {},
   "outputs": [],
   "source": [
    "# 100d\n",
    "print(\"鹿：\", getTopKSim(\"鹿\", 20))\n",
    "print(\"于：\", getTopKSim(\"于\", 20))\n",
    "print(\"茵：\", getTopKSim(\"茵\", 20))\n",
    "print(\"少：\", getTopKSim(\"少\", 20))\n",
    "print(\"饮：\", getTopKSim(\"饮\", 20))"
   ]
  },
  {
   "cell_type": "code",
   "execution_count": null,
   "metadata": {},
   "outputs": [],
   "source": [
    "# 300d\n",
    "print(\"鹿：\", getTopKSim(\"鹿\", 20))\n",
    "print(\"于：\", getTopKSim(\"于\", 20))\n",
    "print(\"茵：\", getTopKSim(\"茵\", 20))\n",
    "print(\"少：\", getTopKSim(\"少\", 20))\n",
    "print(\"饮：\", getTopKSim(\"饮\", 20))"
   ]
  },
  {
   "cell_type": "markdown",
   "metadata": {},
   "source": [
    "#### 形似字字典"
   ]
  },
  {
   "cell_type": "code",
   "execution_count": null,
   "metadata": {},
   "outputs": [],
   "source": [
    "# 生成（~2hrs）\n",
    "def getTopKSimDict(K=20):\n",
    "    sim_dct = {}\n",
    "    for q_char in char2id.keys():\n",
    "        id = char2id[q_char]\n",
    "        sim_lst = []\n",
    "        for i in range(M.shape[0]):\n",
    "            sim = torch.cosine_similarity(M[id], M[i], dim=-1)\n",
    "            sim_lst.append((sim, i))\n",
    "        sim_lst.sort(key=lambda x: x[0], reverse=True)\n",
    "        topK_id = sim_lst[1:K+1]\n",
    "        topK_char = []\n",
    "        for _, id in topK_id:\n",
    "            topK_char.append(id2char[id])\n",
    "        sim_dct[q_char] = topK_char\n",
    "    return sim_dct\n",
    "\n",
    "sim_dct = getTopKSimDict()\n",
    "torch.save(sim_dct, \"./sim_dct\")"
   ]
  },
  {
   "cell_type": "code",
   "execution_count": 14,
   "metadata": {},
   "outputs": [],
   "source": [
    "# 加载\n",
    "def get_sim_dict():\n",
    "    sim_dict = torch.load('sim_dct')\n",
    "    return sim_dict\n",
    "\n",
    "sim_dct = get_sim_dict()"
   ]
  },
  {
   "cell_type": "code",
   "execution_count": 16,
   "metadata": {},
   "outputs": [],
   "source": [
    "# 字间相似度\n",
    "def charSim(c1=\"于\", c2=\"干\"):\n",
    "    sim = torch.cosine_similarity(M[char2id[c1]], M[char2id[c2]], dim=-1)\n",
    "    return sim"
   ]
  },
  {
   "cell_type": "code",
   "execution_count": 20,
   "metadata": {},
   "outputs": [
    {
     "name": "stdout",
     "output_type": "stream",
     "text": [
      "tensor(0.5860, device='cuda:0')\n",
      "tensor(0.5790, device='cuda:0')\n"
     ]
    }
   ],
   "source": [
    "print(charSim(c1=\"于\", c2=\"干\"))\n",
    "print(charSim(c1=\"小\", c2=\"少\"))"
   ]
  },
  {
   "cell_type": "code",
   "execution_count": null,
   "metadata": {},
   "outputs": [],
   "source": []
  }
 ],
 "metadata": {
  "kernelspec": {
   "display_name": "Python 3",
   "language": "python",
   "name": "python3"
  },
  "language_info": {
   "codemirror_mode": {
    "name": "ipython",
    "version": 3
   },
   "file_extension": ".py",
   "mimetype": "text/x-python",
   "name": "python",
   "nbconvert_exporter": "python",
   "pygments_lexer": "ipython3",
   "version": "3.8.3"
  }
 },
 "nbformat": 4,
 "nbformat_minor": 4
}
