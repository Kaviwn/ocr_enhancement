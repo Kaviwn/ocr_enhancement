{
 "cells": [
  {
   "cell_type": "code",
   "execution_count": 26,
   "metadata": {},
   "outputs": [],
   "source": [
    "import torch\n",
    "import pandas as pd\n",
    "import numpy as np\n",
    "import pickle\n",
    "import torchvision.models as models"
   ]
  },
  {
   "cell_type": "code",
   "execution_count": 27,
   "metadata": {},
   "outputs": [],
   "source": [
    "dim = 50"
   ]
  },
  {
   "cell_type": "code",
   "execution_count": 29,
   "metadata": {},
   "outputs": [
    {
     "name": "stdout",
     "output_type": "stream",
     "text": [
      "Saved!\n"
     ]
    }
   ],
   "source": [
    "def exShapeMatrix(m_path='ShapeNet.pth', d=300):\n",
    "    m_path = m_path.replace('Net', 'Net_'+str(d)+'d')\n",
    "    pretrained_dict = torch.load(m_path)\n",
    "    M = pretrained_dict['model']['classifier.0.weight']\n",
    "    # resave\n",
    "    torch.save({'shape2vec': M}, f'shape2vec.{d}d')\n",
    "    print(\"Saved!\")\n",
    "# M = pretrained_dict['model']['classifier.0.weight'].cpu().detach().numpy()\n",
    "\n",
    "exShapeMatrix(d=dim)"
   ]
  },
  {
   "cell_type": "code",
   "execution_count": 30,
   "metadata": {},
   "outputs": [
    {
     "name": "stdout",
     "output_type": "stream",
     "text": [
      "torch.Size([3755, 50])\n"
     ]
    }
   ],
   "source": [
    "def get_label_dict():\n",
    "    f = open('./chinese_labels', 'rb')\n",
    "    label_dict = pickle.load(f)\n",
    "    f.close()\n",
    "    return label_dict\n",
    "\n",
    "id2char = get_label_dict()\n",
    "char2id = {x: y for x, y in zip(id2char.values(), id2char.keys())}\n",
    "\n",
    "def getAllReady():\n",
    "    id2char = get_label_dict()\n",
    "    char2id = {x: y for x, y in zip(id2char.values(), id2char.keys())}\n",
    "    M = torch.load(f'./shape2vec.{dim}d')['shape2vec']\n",
    "    print(M.shape)\n",
    "    return M\n",
    "    \n",
    "M = getAllReady()"
   ]
  },
  {
   "cell_type": "code",
   "execution_count": 31,
   "metadata": {},
   "outputs": [],
   "source": [
    "def getTopKSim(q_char, K=20):\n",
    "    id = char2id[q_char]\n",
    "    sim_lst = []\n",
    "    for i in range(M.shape[0]):\n",
    "        sim = torch.cosine_similarity(M[id], M[i], dim=-1)\n",
    "        sim_lst.append((sim, i))\n",
    "    sim_lst.sort(key=lambda x: x[0], reverse=True)\n",
    "    topK_id = sim_lst[1:K+1]\n",
    "    topK_char = []\n",
    "    for _, id in topK_id:\n",
    "        topK_char.append(id2char[id])\n",
    "    return topK_char\n"
   ]
  },
  {
   "cell_type": "markdown",
   "metadata": {},
   "source": [
    "#### Test"
   ]
  },
  {
   "cell_type": "code",
   "execution_count": 34,
   "metadata": {},
   "outputs": [
    {
     "name": "stdout",
     "output_type": "stream",
     "text": [
      "鹿： ['蔑', '席', '衷', '商', '胞', '展', '度', '厘', '底', '宦', '腕', '胰', '虎', '窟', '寇', '蓖', '腥', '庭', '彪', '脯']\n",
      "于： ['干', '子', '丁', '吁', '巧', '云', '壬', '古', '乎', '蹬', '予', '晋', '牙', '手', '天', '霞', '订', '责', '舌', '寸']\n",
      "茵： ['苗', '萤', '菌', '卤', '酋', '窗', '商', '谊', '苞', '芭', '萄', '笛', '值', '砖', '亩', '苟', '囱', '首', '宦', '茧']\n",
      "少： ['吵', '沙', '父', '小', '尘', '乡', '山', '今', '纱', '炒', '步', '夕', '刃', '尖', '抄', '诊', '仅', '立', '砂', '仪']\n",
      "饮： ['钦', '炊', '饥', '坎', '饭', '伙', '忱', '吹', '饺', '次', '恢', '饱', '欲', '砍', '收', '蚀', '价', '欧', '欢', '饶']\n"
     ]
    }
   ],
   "source": [
    "# 50d\n",
    "print(\"鹿：\", getTopKSim(\"鹿\", 20))\n",
    "print(\"于：\", getTopKSim(\"于\", 20))\n",
    "print(\"茵：\", getTopKSim(\"茵\", 20))\n",
    "print(\"少：\", getTopKSim(\"少\", 20))\n",
    "print(\"饮：\", getTopKSim(\"饮\", 20))"
   ]
  },
  {
   "cell_type": "code",
   "execution_count": 25,
   "metadata": {},
   "outputs": [
    {
     "name": "stdout",
     "output_type": "stream",
     "text": [
      "鹿： ['厘', '展', '蔑', '席', '商', '度', '寇', '棍', '衷', '磨', '腥', '庞', '庭', '胞', '框', '虎', '窟', '便', '曳', '剧']\n",
      "于： ['吁', '丁', '干', '子', '才', '士', '壬', '乎', '古', '牙', '千', '手', '寸', '矿', '宁', '开', '十', '天', '董', '云']\n",
      "茵： ['窗', '卤', '苗', '兢', '萤', '酋', '菌', '齿', '商', '萄', '苟', '蔬', '茁', '荫', '园', '茧', '周', '瑟', '值', '谅']\n",
      "少： ['沙', '吵', '尘', '小', '纱', '父', '步', '今', '尖', '夕', '山', '火', '办', '炒', '贝', '必', '乡', '贞', '抄', '公']\n",
      "饮： ['钦', '饺', '忱', '炊', '饥', '坎', '饭', '吹', '伙', '欢', '饶', '枕', '欧', '欲', '敛', '饱', '农', '砍', '认', '蚀']\n"
     ]
    }
   ],
   "source": [
    "# 100d\n",
    "print(\"鹿：\", getTopKSim(\"鹿\", 20))\n",
    "print(\"于：\", getTopKSim(\"于\", 20))\n",
    "print(\"茵：\", getTopKSim(\"茵\", 20))\n",
    "print(\"少：\", getTopKSim(\"少\", 20))\n",
    "print(\"饮：\", getTopKSim(\"饮\", 20))"
   ]
  },
  {
   "cell_type": "code",
   "execution_count": 20,
   "metadata": {},
   "outputs": [
    {
     "name": "stdout",
     "output_type": "stream",
     "text": [
      "鹿： ['席', '蔑', '商', '胞', '展', '度', '厘', '衷', '腕', '庭', '胯', '寇', '棍', '庞', '彪', '磨', '傀', '廊', '蓖', '腹']\n",
      "于： ['干', '丁', '吁', '子', '云', '士', '手', '无', '予', '汗', '古', '王', '乎', '开', '天', '壬', '巧', '万', '己', '迂']\n",
      "茵： ['窗', '菌', '商', '萤', '卤', '苞', '芭', '蔬', '苗', '齿', '苟', '荷', '茁', '萄', '茸', '蔗', '亩', '固', '荫', '茂']\n",
      "少： ['沙', '步', '尘', '小', '吵', '纱', '乡', '夕', '今', '必', '立', '办', '贝', '公', '业', '贞', '个', '父', '尖', '火']\n",
      "饮： ['忱', '饥', '钦', '饺', '炊', '饭', '伙', '坎', '吹', '欧', '敛', '饶', '饱', '欢', '欣', '枕', '恢', '砍', '软', '馒']\n"
     ]
    }
   ],
   "source": [
    "# 300d\n",
    "print(\"鹿：\", getTopKSim(\"鹿\", 20))\n",
    "print(\"于：\", getTopKSim(\"于\", 20))\n",
    "print(\"茵：\", getTopKSim(\"茵\", 20))\n",
    "print(\"少：\", getTopKSim(\"少\", 20))\n",
    "print(\"饮：\", getTopKSim(\"饮\", 20))"
   ]
  },
  {
   "cell_type": "markdown",
   "metadata": {},
   "source": [
    "#### 形似字字典"
   ]
  },
  {
   "cell_type": "code",
   "execution_count": 8,
   "metadata": {},
   "outputs": [
    {
     "ename": "KeyboardInterrupt",
     "evalue": "",
     "output_type": "error",
     "traceback": [
      "\u001b[1;31m---------------------------------------------------------------------------\u001b[0m",
      "\u001b[1;31mKeyboardInterrupt\u001b[0m                         Traceback (most recent call last)",
      "\u001b[1;32m<ipython-input-8-c881d730a540>\u001b[0m in \u001b[0;36m<module>\u001b[1;34m\u001b[0m\n\u001b[0;32m     15\u001b[0m     \u001b[1;32mreturn\u001b[0m \u001b[0msim_dct\u001b[0m\u001b[1;33m\u001b[0m\u001b[1;33m\u001b[0m\u001b[0m\n\u001b[0;32m     16\u001b[0m \u001b[1;33m\u001b[0m\u001b[0m\n\u001b[1;32m---> 17\u001b[1;33m \u001b[0msim_dct\u001b[0m \u001b[1;33m=\u001b[0m \u001b[0mgetTopKSimDict\u001b[0m\u001b[1;33m(\u001b[0m\u001b[1;33m)\u001b[0m\u001b[1;33m\u001b[0m\u001b[1;33m\u001b[0m\u001b[0m\n\u001b[0m\u001b[0;32m     18\u001b[0m \u001b[0mtorch\u001b[0m\u001b[1;33m.\u001b[0m\u001b[0msave\u001b[0m\u001b[1;33m(\u001b[0m\u001b[0msim_dct\u001b[0m\u001b[1;33m,\u001b[0m \u001b[1;34m\"./sim_dct\"\u001b[0m\u001b[1;33m)\u001b[0m\u001b[1;33m\u001b[0m\u001b[1;33m\u001b[0m\u001b[0m\n",
      "\u001b[1;32m<ipython-input-8-c881d730a540>\u001b[0m in \u001b[0;36mgetTopKSimDict\u001b[1;34m(K)\u001b[0m\n\u001b[0;32m      7\u001b[0m             \u001b[0msim\u001b[0m \u001b[1;33m=\u001b[0m \u001b[0mtorch\u001b[0m\u001b[1;33m.\u001b[0m\u001b[0mcosine_similarity\u001b[0m\u001b[1;33m(\u001b[0m\u001b[0mM\u001b[0m\u001b[1;33m[\u001b[0m\u001b[0mid\u001b[0m\u001b[1;33m]\u001b[0m\u001b[1;33m,\u001b[0m \u001b[0mM\u001b[0m\u001b[1;33m[\u001b[0m\u001b[0mi\u001b[0m\u001b[1;33m]\u001b[0m\u001b[1;33m,\u001b[0m \u001b[0mdim\u001b[0m\u001b[1;33m=\u001b[0m\u001b[1;33m-\u001b[0m\u001b[1;36m1\u001b[0m\u001b[1;33m)\u001b[0m\u001b[1;33m\u001b[0m\u001b[1;33m\u001b[0m\u001b[0m\n\u001b[0;32m      8\u001b[0m             \u001b[0msim_lst\u001b[0m\u001b[1;33m.\u001b[0m\u001b[0mappend\u001b[0m\u001b[1;33m(\u001b[0m\u001b[1;33m(\u001b[0m\u001b[0msim\u001b[0m\u001b[1;33m,\u001b[0m \u001b[0mi\u001b[0m\u001b[1;33m)\u001b[0m\u001b[1;33m)\u001b[0m\u001b[1;33m\u001b[0m\u001b[1;33m\u001b[0m\u001b[0m\n\u001b[1;32m----> 9\u001b[1;33m         \u001b[0msim_lst\u001b[0m\u001b[1;33m.\u001b[0m\u001b[0msort\u001b[0m\u001b[1;33m(\u001b[0m\u001b[0mkey\u001b[0m\u001b[1;33m=\u001b[0m\u001b[1;32mlambda\u001b[0m \u001b[0mx\u001b[0m\u001b[1;33m:\u001b[0m \u001b[0mx\u001b[0m\u001b[1;33m[\u001b[0m\u001b[1;36m0\u001b[0m\u001b[1;33m]\u001b[0m\u001b[1;33m,\u001b[0m \u001b[0mreverse\u001b[0m\u001b[1;33m=\u001b[0m\u001b[1;32mTrue\u001b[0m\u001b[1;33m)\u001b[0m\u001b[1;33m\u001b[0m\u001b[1;33m\u001b[0m\u001b[0m\n\u001b[0m\u001b[0;32m     10\u001b[0m         \u001b[0mtopK_id\u001b[0m \u001b[1;33m=\u001b[0m \u001b[0msim_lst\u001b[0m\u001b[1;33m[\u001b[0m\u001b[1;36m1\u001b[0m\u001b[1;33m:\u001b[0m\u001b[0mK\u001b[0m\u001b[1;33m+\u001b[0m\u001b[1;36m1\u001b[0m\u001b[1;33m]\u001b[0m\u001b[1;33m\u001b[0m\u001b[1;33m\u001b[0m\u001b[0m\n\u001b[0;32m     11\u001b[0m         \u001b[0mtopK_char\u001b[0m \u001b[1;33m=\u001b[0m \u001b[1;33m[\u001b[0m\u001b[1;33m]\u001b[0m\u001b[1;33m\u001b[0m\u001b[1;33m\u001b[0m\u001b[0m\n",
      "\u001b[1;32m~\\anaconda3\\lib\\site-packages\\torch\\tensor.py\u001b[0m in \u001b[0;36mwrapped\u001b[1;34m(*args, **kwargs)\u001b[0m\n\u001b[0;32m     19\u001b[0m     \u001b[1;33m@\u001b[0m\u001b[0mfunctools\u001b[0m\u001b[1;33m.\u001b[0m\u001b[0mwraps\u001b[0m\u001b[1;33m(\u001b[0m\u001b[0mf\u001b[0m\u001b[1;33m,\u001b[0m \u001b[0massigned\u001b[0m\u001b[1;33m=\u001b[0m\u001b[0massigned\u001b[0m\u001b[1;33m)\u001b[0m\u001b[1;33m\u001b[0m\u001b[1;33m\u001b[0m\u001b[0m\n\u001b[0;32m     20\u001b[0m     \u001b[1;32mdef\u001b[0m \u001b[0mwrapped\u001b[0m\u001b[1;33m(\u001b[0m\u001b[1;33m*\u001b[0m\u001b[0margs\u001b[0m\u001b[1;33m,\u001b[0m \u001b[1;33m**\u001b[0m\u001b[0mkwargs\u001b[0m\u001b[1;33m)\u001b[0m\u001b[1;33m:\u001b[0m\u001b[1;33m\u001b[0m\u001b[1;33m\u001b[0m\u001b[0m\n\u001b[1;32m---> 21\u001b[1;33m         \u001b[1;32mtry\u001b[0m\u001b[1;33m:\u001b[0m\u001b[1;33m\u001b[0m\u001b[1;33m\u001b[0m\u001b[0m\n\u001b[0m\u001b[0;32m     22\u001b[0m             \u001b[1;32mreturn\u001b[0m \u001b[0mf\u001b[0m\u001b[1;33m(\u001b[0m\u001b[1;33m*\u001b[0m\u001b[0margs\u001b[0m\u001b[1;33m,\u001b[0m \u001b[1;33m**\u001b[0m\u001b[0mkwargs\u001b[0m\u001b[1;33m)\u001b[0m\u001b[1;33m\u001b[0m\u001b[1;33m\u001b[0m\u001b[0m\n\u001b[0;32m     23\u001b[0m         \u001b[1;32mexcept\u001b[0m \u001b[0mTypeError\u001b[0m\u001b[1;33m:\u001b[0m\u001b[1;33m\u001b[0m\u001b[1;33m\u001b[0m\u001b[0m\n",
      "\u001b[1;31mKeyboardInterrupt\u001b[0m: "
     ]
    }
   ],
   "source": [
    "def getTopKSimDict(K=20):\n",
    "    sim_dct = {}\n",
    "    for q_char in char2id.keys():\n",
    "        id = char2id[q_char]\n",
    "        sim_lst = []\n",
    "        for i in range(M.shape[0]):\n",
    "            sim = torch.cosine_similarity(M[id], M[i], dim=-1)\n",
    "            sim_lst.append((sim, i))\n",
    "        sim_lst.sort(key=lambda x: x[0], reverse=True)\n",
    "        topK_id = sim_lst[1:K+1]\n",
    "        topK_char = []\n",
    "        for _, id in topK_id:\n",
    "            topK_char.append(id2char[id])\n",
    "        sim_dct[q_char] = topK_char\n",
    "    return sim_dct\n",
    "\n",
    "sim_dct = getTopKSimDict()\n",
    "torch.save(sim_dct, \"./sim_dct\")"
   ]
  },
  {
   "cell_type": "code",
   "execution_count": null,
   "metadata": {},
   "outputs": [],
   "source": []
  }
 ],
 "metadata": {
  "kernelspec": {
   "display_name": "Python 3",
   "language": "python",
   "name": "python3"
  },
  "language_info": {
   "codemirror_mode": {
    "name": "ipython",
    "version": 3
   },
   "file_extension": ".py",
   "mimetype": "text/x-python",
   "name": "python",
   "nbconvert_exporter": "python",
   "pygments_lexer": "ipython3",
   "version": "3.8.3"
  }
 },
 "nbformat": 4,
 "nbformat_minor": 4
}
