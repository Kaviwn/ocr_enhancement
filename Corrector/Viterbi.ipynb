{
 "cells": [
  {
   "cell_type": "code",
   "execution_count": 1,
   "metadata": {},
   "outputs": [],
   "source": [
    "#状态 1 2 3\n",
    "A = [[0.5,0.2,0.3],\n",
    "     [0.3,0.5,0.2],\n",
    "     [0.2,0.3,0.5]]\n",
    "\n",
    "pi = [0.2,0.4,0.4]\n",
    "# red white\n",
    "B = [[0.5,0.5],\n",
    "     [0.4,0.6],\n",
    "     [0.7,0.3]]"
   ]
  },
  {
   "cell_type": "code",
   "execution_count": 2,
   "metadata": {},
   "outputs": [
    {
     "data": {
      "text/plain": [
       "([[0.1, 0.16000000000000003, 0.27999999999999997],\n",
       "  [0.027999999999999997, 0.05039999999999999, 0.041999999999999996],\n",
       "  [0.007559999999999999, 0.010079999999999999, 0.014699999999999998],\n",
       "  [0.0018899999999999998, 0.0030239999999999993, 0.0022049999999999995]],\n",
       " [[0, 0, 0], [2, 2, 2], [1, 1, 2], [0, 1, 2]],\n",
       " [2, 1, 1, 1])"
      ]
     },
     "execution_count": 2,
     "metadata": {},
     "output_type": "execute_result"
    }
   ],
   "source": [
    "def hmm_viterbi(A,B,pi,O):\n",
    "    T = len(O)\n",
    "    N = len(A[0])\n",
    "    delta = [[0]*N for _ in range(T)]\n",
    "    psi = [[0]*N for _ in range(T)]\n",
    "    #step1: init\n",
    "    for i in range(N):\n",
    "        delta[0][i] = pi[i]*B[i][O[0]]\n",
    "        psi[0][i] = 0\n",
    "    #step2: iter\n",
    "    for t in range(1,T):\n",
    "        for i in range(N):\n",
    "            temp,maxindex = 0,0\n",
    "            for j in range(N):\n",
    "                res = delta[t-1][j]*A[j][i]\n",
    "                if res>temp:\n",
    "                    temp = res\n",
    "                    maxindex = j\n",
    "            delta[t][i] = temp*B[i][O[t]]#delta\n",
    "            psi[t][i] = maxindex\n",
    "    #step3: end\n",
    "    p = max(delta[-1])\n",
    "    for i in range(N):\n",
    "        if delta[-1][i] == p:\n",
    "            i_T = i\n",
    "    #step4：backtrack\n",
    "    path = [0]*T\n",
    "    i_t = i_T\n",
    "    for t in reversed(range(T-1)):\n",
    "        i_t = psi[t+1][i_t]\n",
    "        path[t] = i_t\n",
    "    path[-1] = i_T\n",
    "    return delta, psi, path\n",
    "A = [[0.5,0.2,0.3],[0.3,0.5,0.2],[0.2,0.3,0.5]]\n",
    "B = [[0.5,0.5],[0.4,0.6],[0.7,0.3]]\n",
    "pi = [0.2,0.4,0.4]\n",
    "O = [0,1,0,1]\n",
    "hmm_viterbi(A,B,pi,O)"
   ]
  },
  {
   "cell_type": "code",
   "execution_count": null,
   "metadata": {},
   "outputs": [],
   "source": []
  },
  {
   "cell_type": "code",
   "execution_count": 3,
   "metadata": {},
   "outputs": [
    {
     "name": "stdout",
     "output_type": "stream",
     "text": [
      "[[0.378      0.02835    0.00070875]\n",
      " [0.0425     0.0354375  0.00265781]\n",
      " [0.01       0.0165375  0.01107422]]\n"
     ]
    }
   ],
   "source": [
    "import numpy as np\n",
    "def viterbi(trainsition_probability, emission_probability, pi, obs_seq):\n",
    "    #转换为矩阵进行运算\n",
    "    trainsition_probability = np.array(trainsition_probability)\n",
    "    emission_probability = np.array(emission_probability)\n",
    "    pi = np.array(pi)\n",
    "    obs_seq = [0, 2, 3]\n",
    "    \n",
    "    # 最后返回一个Row*Col的矩阵结果\n",
    "    Row = np.array(trainsition_probability).shape[0]\n",
    "    Col = len(obs_seq)\n",
    "    # 定义要返回的矩阵\n",
    "    F = np.zeros((Row,Col))\n",
    "    #初始状态\n",
    "    F[:, 0] = pi*np.transpose(emission_probability[:,obs_seq[0]])\n",
    "    for t in range(1,Col):\n",
    "        list_max=[]\n",
    "        for n in range(Row):\n",
    "            list_x=list(np.array(F[:,t-1])*np.transpose(trainsition_probability[:,n]))\n",
    "            #获取最大概率\n",
    "            list_p=[]\n",
    "            for i in list_x:\n",
    "                list_p.append(i*10000)\n",
    "            list_max.append(max(list_p)/10000)\n",
    "        F[:,t]=np.array(list_max)*np.transpose(emission_probability[:,obs_seq[t]])\n",
    "    return F\n",
    "\n",
    "if __name__=='__main__':\n",
    "    #隐藏状态\n",
    "    invisible=['Sunny','Cloud','Rainy']\n",
    "    #初始状态\n",
    "    pi=[0.63,0.17,0.20]\n",
    "    #转移矩阵\n",
    "    trainsion_probility=[[0.5,0.375,0.125],[0.25,0.125,0.625],[0.25,0.375,0.375]]\n",
    "    #发射矩阵\n",
    "    emission_probility=[[0.6,0.2,0.15,0.05],[0.25,0.25,0.25,0.25],[0.05,0.10,0.35,0.5]]\n",
    "    #最后显示状态\n",
    "    obs_seq=[0,2,3]\n",
    "    #最后返回一个Row*Col的矩阵结果\n",
    "    F=viterbi(trainsion_probility,emission_probility,pi,obs_seq)\n",
    "    print(F) # Sunny，Cloud，Rainy"
   ]
  },
  {
   "cell_type": "code",
   "execution_count": null,
   "metadata": {},
   "outputs": [],
   "source": []
  }
 ],
 "metadata": {
  "kernelspec": {
   "display_name": "Python 3",
   "language": "python",
   "name": "python3"
  },
  "language_info": {
   "codemirror_mode": {
    "name": "ipython",
    "version": 3
   },
   "file_extension": ".py",
   "mimetype": "text/x-python",
   "name": "python",
   "nbconvert_exporter": "python",
   "pygments_lexer": "ipython3",
   "version": "3.8.3"
  }
 },
 "nbformat": 4,
 "nbformat_minor": 4
}
