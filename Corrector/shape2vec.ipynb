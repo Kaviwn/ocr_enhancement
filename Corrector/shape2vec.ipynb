{
 "cells": [
  {
   "cell_type": "code",
   "execution_count": 1,
   "metadata": {},
   "outputs": [],
   "source": [
    "import torch\n",
    "import pandas as pd\n",
    "import numpy as np\n",
    "import pickle\n",
    "import torchvision.models as models"
   ]
  },
  {
   "cell_type": "code",
   "execution_count": 2,
   "metadata": {},
   "outputs": [],
   "source": [
    "dim = 50"
   ]
  },
  {
   "cell_type": "code",
   "execution_count": null,
   "metadata": {},
   "outputs": [],
   "source": [
    "def exShapeMatrix(m_path='ShapeNet.pth', d=300):\n",
    "    m_path = m_path.replace('Net', 'Net_'+str(d)+'d')\n",
    "    pretrained_dict = torch.load(m_path)\n",
    "    M = pretrained_dict['model']['classifier.0.weight']\n",
    "    # resave\n",
    "    torch.save({'shape2vec': M}, f'shape2vec.{d}d')\n",
    "    print(\"Saved!\")\n",
    "# M = pretrained_dict['model']['classifier.0.weight'].cpu().detach().numpy()\n",
    "\n",
    "exShapeMatrix(d=dim)"
   ]
  },
  {
   "cell_type": "code",
   "execution_count": 3,
   "metadata": {},
   "outputs": [
    {
     "name": "stdout",
     "output_type": "stream",
     "text": [
      "torch.Size([3755, 50])\n"
     ]
    }
   ],
   "source": [
    "def get_label_dict():\n",
    "    f = open('./chinese_labels', 'rb')\n",
    "    label_dict = pickle.load(f)\n",
    "    f.close()\n",
    "    return label_dict\n",
    "\n",
    "id2char = get_label_dict()\n",
    "char2id = {x: y for x, y in zip(id2char.values(), id2char.keys())}\n",
    "\n",
    "def getAllReady():\n",
    "    id2char = get_label_dict()\n",
    "    char2id = {x: y for x, y in zip(id2char.values(), id2char.keys())}\n",
    "    M = torch.load(f'./shape2vec.{dim}d')['shape2vec']\n",
    "    print(M.shape)\n",
    "    return M\n",
    "    \n",
    "M = getAllReady()"
   ]
  },
  {
   "cell_type": "code",
   "execution_count": 4,
   "metadata": {},
   "outputs": [],
   "source": [
    "def getTopKSim(q_char, K=20):\n",
    "    id = char2id[q_char]\n",
    "    sim_lst = []\n",
    "    for i in range(M.shape[0]):\n",
    "        sim = torch.cosine_similarity(M[id], M[i], dim=-1)\n",
    "        sim_lst.append((sim, i))\n",
    "    sim_lst.sort(key=lambda x: x[0], reverse=True)\n",
    "    topK_id = sim_lst[1:K+1]\n",
    "    topK_char = []\n",
    "    for _, id in topK_id:\n",
    "        topK_char.append(id2char[id])\n",
    "    return topK_char\n"
   ]
  },
  {
   "cell_type": "markdown",
   "metadata": {},
   "source": [
    "#### Test"
   ]
  },
  {
   "cell_type": "code",
   "execution_count": null,
   "metadata": {},
   "outputs": [],
   "source": [
    "# 50d\n",
    "print(\"鹿：\", getTopKSim(\"鹿\", 20))\n",
    "print(\"于：\", getTopKSim(\"于\", 20))\n",
    "print(\"茵：\", getTopKSim(\"茵\", 20))\n",
    "print(\"少：\", getTopKSim(\"少\", 20))\n",
    "print(\"饮：\", getTopKSim(\"饮\", 20))"
   ]
  },
  {
   "cell_type": "code",
   "execution_count": null,
   "metadata": {},
   "outputs": [],
   "source": [
    "# 100d\n",
    "print(\"鹿：\", getTopKSim(\"鹿\", 20))\n",
    "print(\"于：\", getTopKSim(\"于\", 20))\n",
    "print(\"茵：\", getTopKSim(\"茵\", 20))\n",
    "print(\"少：\", getTopKSim(\"少\", 20))\n",
    "print(\"饮：\", getTopKSim(\"饮\", 20))"
   ]
  },
  {
   "cell_type": "code",
   "execution_count": null,
   "metadata": {},
   "outputs": [],
   "source": [
    "# 300d\n",
    "print(\"鹿：\", getTopKSim(\"鹿\", 20))\n",
    "print(\"于：\", getTopKSim(\"于\", 20))\n",
    "print(\"茵：\", getTopKSim(\"茵\", 20))\n",
    "print(\"少：\", getTopKSim(\"少\", 20))\n",
    "print(\"饮：\", getTopKSim(\"饮\", 20))"
   ]
  },
  {
   "cell_type": "markdown",
   "metadata": {},
   "source": [
    "#### 形似字字典"
   ]
  },
  {
   "cell_type": "code",
   "execution_count": null,
   "metadata": {},
   "outputs": [],
   "source": [
    "def getTopKSimDict(K=20):\n",
    "    sim_dct = {}\n",
    "    for q_char in char2id.keys():\n",
    "        id = char2id[q_char]\n",
    "        sim_lst = []\n",
    "        for i in range(M.shape[0]):\n",
    "            sim = torch.cosine_similarity(M[id], M[i], dim=-1)\n",
    "            sim_lst.append((sim, i))\n",
    "        sim_lst.sort(key=lambda x: x[0], reverse=True)\n",
    "        topK_id = sim_lst[1:K+1]\n",
    "        topK_char = []\n",
    "        for _, id in topK_id:\n",
    "            topK_char.append(id2char[id])\n",
    "        sim_dct[q_char] = topK_char\n",
    "    return sim_dct\n",
    "\n",
    "sim_dct = getTopKSimDict()\n",
    "torch.save(sim_dct, \"./sim_dct\")"
   ]
  },
  {
   "cell_type": "code",
   "execution_count": null,
   "metadata": {},
   "outputs": [],
   "source": [
    "def get_sim_dict():\n",
    "    f = open('./sim_dct', 'rb')\n",
    "    sim_dict = pickle.load(f)\n",
    "    f.close()\n",
    "    return sim_dict\n",
    "\n",
    "sim_dct = get_sim_dict()"
   ]
  },
  {
   "cell_type": "code",
   "execution_count": null,
   "metadata": {},
   "outputs": [],
   "source": [
    "sim_dct = torch.load('sim_dct')"
   ]
  },
  {
   "cell_type": "code",
   "execution_count": null,
   "metadata": {},
   "outputs": [],
   "source": [
    "type(sim_dct)"
   ]
  },
  {
   "cell_type": "code",
   "execution_count": 8,
   "metadata": {},
   "outputs": [
    {
     "data": {
      "text/plain": [
       "tensor(0.5860, device='cuda:0')"
      ]
     },
     "execution_count": 8,
     "metadata": {},
     "output_type": "execute_result"
    }
   ],
   "source": [
    "torch.cosine_similarity(M[char2id[\"于\"]], M[char2id[\"干\"]], dim=-1)"
   ]
  },
  {
   "cell_type": "code",
   "execution_count": null,
   "metadata": {},
   "outputs": [],
   "source": []
  }
 ],
 "metadata": {
  "kernelspec": {
   "display_name": "Python 3",
   "language": "python",
   "name": "python3"
  },
  "language_info": {
   "codemirror_mode": {
    "name": "ipython",
    "version": 3
   },
   "file_extension": ".py",
   "mimetype": "text/x-python",
   "name": "python",
   "nbconvert_exporter": "python",
   "pygments_lexer": "ipython3",
   "version": "3.8.3"
  }
 },
 "nbformat": 4,
 "nbformat_minor": 4
}
