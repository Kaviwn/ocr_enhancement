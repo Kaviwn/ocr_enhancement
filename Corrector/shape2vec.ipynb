{
 "cells": [
  {
   "cell_type": "code",
   "execution_count": 1,
   "metadata": {},
   "outputs": [],
   "source": [
    "import torch\n",
    "import pandas as pd\n",
    "import numpy as np\n",
    "import pickle\n",
    "import torchvision.models as models"
   ]
  },
  {
   "cell_type": "code",
   "execution_count": null,
   "metadata": {},
   "outputs": [],
   "source": []
  },
  {
   "cell_type": "code",
   "execution_count": 21,
   "metadata": {},
   "outputs": [
    {
     "name": "stdout",
     "output_type": "stream",
     "text": [
      "Saved!\n"
     ]
    }
   ],
   "source": [
    "def exShapeMatrix(m_path='ShapeNet.pth'):\n",
    "    pretrained_dict = torch.load(m_path)\n",
    "    M = pretrained_dict['model']['classifier.0.weight']\n",
    "    # resave\n",
    "    torch.save({'shape2vec': M}, \"shape2vec\")\n",
    "    print(\"Saved!\")\n",
    "# M = pretrained_dict['model']['classifier.0.weight'].cpu().detach().numpy()\n",
    "\n",
    "exShapeMatrix()\n",
    "\n",
    "def get_label_dict():\n",
    "    f = open('./chinese_labels', 'rb')\n",
    "    label_dict = pickle.load(f)\n",
    "    f.close()\n",
    "    return label_dict\n",
    "\n",
    "id2char = get_label_dict()\n",
    "char2id = {x: y for x, y in zip(id2char.values(), id2char.keys())}"
   ]
  },
  {
   "cell_type": "code",
   "execution_count": 25,
   "metadata": {},
   "outputs": [
    {
     "name": "stdout",
     "output_type": "stream",
     "text": [
      "torch.Size([3755, 300])\n"
     ]
    }
   ],
   "source": [
    "def getAllReady():\n",
    "    id2char = get_label_dict()\n",
    "    char2id = {x: y for x, y in zip(id2char.values(), id2char.keys())}\n",
    "    M = torch.load('./shape2vec')['shape2vec']\n",
    "    print(M.shape)\n",
    "    return M\n",
    "    \n",
    "M = getAllReady()"
   ]
  },
  {
   "cell_type": "code",
   "execution_count": 26,
   "metadata": {},
   "outputs": [],
   "source": [
    "def getTopKSim(q_char, K=20):\n",
    "    id = char2id[q_char]\n",
    "    sim_lst = []\n",
    "    for i in range(M.shape[0]):\n",
    "        sim = torch.cosine_similarity(M[id], M[i], dim=-1)\n",
    "        sim_lst.append((sim, i))\n",
    "    sim_lst.sort(key=lambda x: x[0], reverse=True)\n",
    "    topK_id = sim_lst[1:K+1]\n",
    "    topK_char = []\n",
    "    for _, id in topK_id:\n",
    "        topK_char.append(id2char[id])\n",
    "    return topK_char\n"
   ]
  },
  {
   "cell_type": "code",
   "execution_count": 27,
   "metadata": {},
   "outputs": [
    {
     "name": "stdout",
     "output_type": "stream",
     "text": [
      "['血', '肌', '亚', '盟', '显', '业', '圆', '僵', '见', '风', '吧', '哑', '凰', '咀', '趾', '瓜', '圃', '遭', '迎', '狙']\n"
     ]
    }
   ],
   "source": [
    "print(getTopKSim(\"皿\", 20))"
   ]
  },
  {
   "cell_type": "code",
   "execution_count": null,
   "metadata": {},
   "outputs": [],
   "source": [
    "def getTopKSimDict(K=20):\n",
    "    sim_dct = {}\n",
    "    for q_char in char2id.keys():\n",
    "        id = char2id[q_char]\n",
    "        sim_lst = []\n",
    "        for i in range(M.shape[0]):\n",
    "            sim = torch.cosine_similarity(M[id], M[i], dim=-1)\n",
    "            sim_lst.append((sim, i))\n",
    "        sim_lst.sort(key=lambda x: x[0], reverse=True)\n",
    "        topK_id = sim_lst[1:K+1]\n",
    "        topK_char = []\n",
    "        for _, id in topK_id:\n",
    "            topK_char.append(id2char[id])\n",
    "        sim_dct[q_char] = topK_char\n",
    "    return sim_dct\n",
    "\n",
    "sim_dct = getTopKSimDict()\n",
    "torch.save(sim_dct, \"./sim_dct\")"
   ]
  },
  {
   "cell_type": "code",
   "execution_count": null,
   "metadata": {},
   "outputs": [],
   "source": []
  }
 ],
 "metadata": {
  "kernelspec": {
   "display_name": "Python 3",
   "language": "python",
   "name": "python3"
  },
  "language_info": {
   "codemirror_mode": {
    "name": "ipython",
    "version": 3
   },
   "file_extension": ".py",
   "mimetype": "text/x-python",
   "name": "python",
   "nbconvert_exporter": "python",
   "pygments_lexer": "ipython3",
   "version": "3.8.3"
  }
 },
 "nbformat": 4,
 "nbformat_minor": 4
}
